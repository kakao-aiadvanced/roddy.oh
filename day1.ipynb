{
 "cells": [
  {
   "metadata": {
    "ExecuteTime": {
     "end_time": "2024-07-29T09:42:57.267944Z",
     "start_time": "2024-07-29T09:42:56.094656Z"
    }
   },
   "cell_type": "code",
   "source": "pip install anthropic",
   "id": "ab8280c7c6584f1e",
   "outputs": [
    {
     "name": "stdout",
     "output_type": "stream",
     "text": [
      "Requirement already satisfied: anthropic in /Users/rogeeoh/miniconda3/lib/python3.12/site-packages (0.31.2)\r\n",
      "Requirement already satisfied: anyio<5,>=3.5.0 in /Users/rogeeoh/miniconda3/lib/python3.12/site-packages (from anthropic) (4.2.0)\r\n",
      "Requirement already satisfied: distro<2,>=1.7.0 in /Users/rogeeoh/miniconda3/lib/python3.12/site-packages (from anthropic) (1.8.0)\r\n",
      "Requirement already satisfied: httpx<1,>=0.23.0 in /Users/rogeeoh/miniconda3/lib/python3.12/site-packages (from anthropic) (0.27.0)\r\n",
      "Requirement already satisfied: jiter<1,>=0.4.0 in /Users/rogeeoh/miniconda3/lib/python3.12/site-packages (from anthropic) (0.5.0)\r\n",
      "Requirement already satisfied: pydantic<3,>=1.9.0 in /Users/rogeeoh/miniconda3/lib/python3.12/site-packages (from anthropic) (2.8.2)\r\n",
      "Requirement already satisfied: sniffio in /Users/rogeeoh/miniconda3/lib/python3.12/site-packages (from anthropic) (1.3.0)\r\n",
      "Requirement already satisfied: tokenizers>=0.13.0 in /Users/rogeeoh/miniconda3/lib/python3.12/site-packages (from anthropic) (0.19.1)\r\n",
      "Requirement already satisfied: typing-extensions<5,>=4.7 in /Users/rogeeoh/miniconda3/lib/python3.12/site-packages (from anthropic) (4.11.0)\r\n",
      "Requirement already satisfied: idna>=2.8 in /Users/rogeeoh/miniconda3/lib/python3.12/site-packages (from anyio<5,>=3.5.0->anthropic) (3.4)\r\n",
      "Requirement already satisfied: certifi in /Users/rogeeoh/miniconda3/lib/python3.12/site-packages (from httpx<1,>=0.23.0->anthropic) (2024.7.4)\r\n",
      "Requirement already satisfied: httpcore==1.* in /Users/rogeeoh/miniconda3/lib/python3.12/site-packages (from httpx<1,>=0.23.0->anthropic) (1.0.5)\r\n",
      "Requirement already satisfied: h11<0.15,>=0.13 in /Users/rogeeoh/miniconda3/lib/python3.12/site-packages (from httpcore==1.*->httpx<1,>=0.23.0->anthropic) (0.14.0)\r\n",
      "Requirement already satisfied: annotated-types>=0.4.0 in /Users/rogeeoh/miniconda3/lib/python3.12/site-packages (from pydantic<3,>=1.9.0->anthropic) (0.7.0)\r\n",
      "Requirement already satisfied: pydantic-core==2.20.1 in /Users/rogeeoh/miniconda3/lib/python3.12/site-packages (from pydantic<3,>=1.9.0->anthropic) (2.20.1)\r\n",
      "Requirement already satisfied: huggingface-hub<1.0,>=0.16.4 in /Users/rogeeoh/miniconda3/lib/python3.12/site-packages (from tokenizers>=0.13.0->anthropic) (0.24.2)\r\n",
      "Requirement already satisfied: filelock in /Users/rogeeoh/miniconda3/lib/python3.12/site-packages (from huggingface-hub<1.0,>=0.16.4->tokenizers>=0.13.0->anthropic) (3.15.4)\r\n",
      "Requirement already satisfied: fsspec>=2023.5.0 in /Users/rogeeoh/miniconda3/lib/python3.12/site-packages (from huggingface-hub<1.0,>=0.16.4->tokenizers>=0.13.0->anthropic) (2024.6.1)\r\n",
      "Requirement already satisfied: packaging>=20.9 in /Users/rogeeoh/miniconda3/lib/python3.12/site-packages (from huggingface-hub<1.0,>=0.16.4->tokenizers>=0.13.0->anthropic) (23.2)\r\n",
      "Requirement already satisfied: pyyaml>=5.1 in /Users/rogeeoh/miniconda3/lib/python3.12/site-packages (from huggingface-hub<1.0,>=0.16.4->tokenizers>=0.13.0->anthropic) (6.0.1)\r\n",
      "Requirement already satisfied: requests in /Users/rogeeoh/miniconda3/lib/python3.12/site-packages (from huggingface-hub<1.0,>=0.16.4->tokenizers>=0.13.0->anthropic) (2.31.0)\r\n",
      "Requirement already satisfied: tqdm>=4.42.1 in /Users/rogeeoh/miniconda3/lib/python3.12/site-packages (from huggingface-hub<1.0,>=0.16.4->tokenizers>=0.13.0->anthropic) (4.65.0)\r\n",
      "Requirement already satisfied: charset-normalizer<4,>=2 in /Users/rogeeoh/miniconda3/lib/python3.12/site-packages (from requests->huggingface-hub<1.0,>=0.16.4->tokenizers>=0.13.0->anthropic) (2.0.4)\r\n",
      "Requirement already satisfied: urllib3<3,>=1.21.1 in /Users/rogeeoh/miniconda3/lib/python3.12/site-packages (from requests->huggingface-hub<1.0,>=0.16.4->tokenizers>=0.13.0->anthropic) (2.1.0)\r\n",
      "Note: you may need to restart the kernel to use updated packages.\n"
     ]
    }
   ],
   "execution_count": 71
  },
  {
   "metadata": {},
   "cell_type": "markdown",
   "source": [
    "## 내용\n",
    "리그오브레전드에서 유저의 플레이 스타일을 입력받아 유저가 플레이하기에 가장 적합한 포지션을 추천해주도록 프롬프트를 작성하자."
   ],
   "id": "7e5a68e236a9884c"
  },
  {
   "metadata": {
    "ExecuteTime": {
     "end_time": "2024-07-29T09:42:57.272257Z",
     "start_time": "2024-07-29T09:42:57.269458Z"
    }
   },
   "cell_type": "code",
   "source": [
    "# 의도한 포지션\n",
    "TOP_PLAYING_STYLE = \"The only thing I care is beating the guy I am facing on the lane. The victory of whole game does not matter to me. The reason I am playing this game is to prove that I am better than the player I am standing on the same lane. What would be my best position?\"\n",
    "\n",
    "MID_PLAYING_STYLE = \"I love playing high-damage champions and making flashy plays. I enjoy outplaying my opponents and carrying my team to victory. Positioning and mechanics are my strong suits. What role should I play?\"\n",
    "\n",
    "JUNGLE_PLAYING_STYLE = \"I prefer to play a supportive role, helping my teammates secure objectives and control the map. I focus on vision, map awareness, and strategic decision-making. Which position suits my playstyle?\"\n",
    "\n",
    "AD_CARRY_PLAYING_STYLE = \"I excel at dealing consistent damage in team fights and securing objectives. Positioning and kiting are my strengths, and I enjoy scaling into the late game. What role should I main?\"\n",
    "\n",
    "SUPPORT_PLAYING_STYLE = \"I enjoy enabling my teammates to succeed and providing utility in team fights. Vision control, crowd control, and protecting allies are my priorities. Which position best fits my playstyle?\""
   ],
   "id": "390a18e1c54aff41",
   "outputs": [],
   "execution_count": 72
  },
  {
   "metadata": {
    "ExecuteTime": {
     "end_time": "2024-07-29T09:42:57.296196Z",
     "start_time": "2024-07-29T09:42:57.273484Z"
    }
   },
   "cell_type": "code",
   "source": [
    "import anthropic\n",
    "\n",
    "client = anthropic.Anthropic(\n",
    "    # defaults to os.environ.get(\"ANTHROPIC_API_KEY\")\n",
    ")\n",
    "\n",
    "\n",
    "def use_my_question(playing_style):\n",
    "    my_prompt = f\"\"\"\n",
    "You are League of Legends game position recommender. You are going to recommend suitable position for League of Legends players. Many players have trouble setting their main position, which are top, jungle, mid, ad carry, and support. Create a prompt for LLM that listens to the user's playing style, and suggest their main position. You must answer only two things. First, position recommendation, second, reasons why you recommend that position based on their playing style.\n",
    "\n",
    "<playing_style>\n",
    "{playing_style}\n",
    "</playing_style>\n",
    "\"\"\"\n",
    "\n",
    "    message = client.messages.create(\n",
    "        model=\"claude-3-5-sonnet-20240620\",\n",
    "        max_tokens=1000,\n",
    "        temperature=0,\n",
    "        messages=[\n",
    "            {\n",
    "                \"role\": \"user\",\n",
    "                \"content\": [\n",
    "                    {\n",
    "                        \"type\": \"text\",\n",
    "                        \"text\": my_prompt\n",
    "                    }\n",
    "                ]\n",
    "            }\n",
    "        ]\n",
    "    )\n",
    "\n",
    "    print(\"My Prompt:\")\n",
    "    print(message.content[0].text)\n",
    "\n",
    "\n",
    "def use_generated_prompt(playing_style):\n",
    "    generated_prompt = f\"\"\"You are a League of Legends position recommender AI. Your task is to recommend a suitable main position for players based on their described playing style. The five possible positions are: Top, Jungle, Mid, AD Carry (ADC), and Support.\n",
    "\n",
    "When a player describes their playing style, carefully analyze their preferences, strengths, and tendencies. Consider factors such as:\n",
    "- Preferred types of champions (e.g., tanks, mages, assassins)\n",
    "- Playstyle (aggressive, passive, roaming, farming)\n",
    "- Map awareness and objective control\n",
    "- Team fight positioning\n",
    "- Communication and shot-calling abilities\n",
    "\n",
    "Based on your analysis, recommend the most suitable position that aligns with their playing style. Your recommendation should be one of the five main positions: Top, Jungle, Mid, ADC, or Support.\n",
    "\n",
    "Provide your response in the following format:\n",
    "1. Position recommendation\n",
    "2. Reasons for the recommendation\n",
    "\n",
    "Here is the player's description of their playing style:\n",
    "\n",
    "<playing_style>\n",
    "{playing_style}\n",
    "</playing_style>\n",
    "\n",
    "Analyze the playing style carefully. Focus on the specific traits and preferences mentioned by the player, and how they align with the characteristics of each position in League of Legends.\n",
    "\n",
    "Provide your recommendation and reasoning inside <answer> tags. Start with the recommended position, then provide 2-3 concise reasons for your recommendation based on the player's described style. Ensure your reasons directly relate to the information provided in the playing style description.\n",
    "\n",
    "Remember to focus solely on the player's described style and avoid making assumptions about their skill level or experience.\"\"\"\n",
    "\n",
    "    message = client.messages.create(\n",
    "        model=\"claude-3-5-sonnet-20240620\",\n",
    "        max_tokens=1000,\n",
    "        temperature=0,\n",
    "        messages=[\n",
    "            {\n",
    "                \"role\": \"user\",\n",
    "                \"content\": [\n",
    "                    {\n",
    "                        \"type\": \"text\",\n",
    "                        \"text\": generated_prompt\n",
    "                    }\n",
    "                ]\n",
    "            }\n",
    "        ]\n",
    "    )\n",
    "\n",
    "    print(\"Generated Prompt:\")\n",
    "    print(message.content[0].text)"
   ],
   "id": "3d99a97b65ab1eca",
   "outputs": [],
   "execution_count": 73
  },
  {
   "metadata": {
    "ExecuteTime": {
     "end_time": "2024-07-29T09:43:00.830635Z",
     "start_time": "2024-07-29T09:42:57.297428Z"
    }
   },
   "cell_type": "code",
   "source": "use_my_question(TOP_PLAYING_STYLE)",
   "id": "236ca827a621b018",
   "outputs": [
    {
     "name": "stdout",
     "output_type": "stream",
     "text": [
      "My Prompt:\n",
      "Top\n",
      "\n",
      "Reasons:\n",
      "1. Top lane is often considered the most isolated position, allowing for extended 1v1 matchups.\n",
      "2. Your focus on beating your direct opponent aligns perfectly with the top lane's emphasis on individual skill and lane dominance.\n",
      "3. Top lane champions often engage in extended trades and duels, providing ample opportunity to prove your superiority over your lane opponent.\n",
      "4. The impact of top lane on the overall game can be less immediate than other roles, which suits your preference for personal victory over team success.\n",
      "5. Top lane requires strong mechanical skills and matchup knowledge, allowing you to showcase your individual prowess against your lane opponent.\n"
     ]
    }
   ],
   "execution_count": 74
  },
  {
   "metadata": {
    "ExecuteTime": {
     "end_time": "2024-07-29T09:43:04.238696Z",
     "start_time": "2024-07-29T09:43:00.831698Z"
    }
   },
   "cell_type": "code",
   "source": "use_generated_prompt(TOP_PLAYING_STYLE)",
   "id": "5ea56a1e92336c72",
   "outputs": [
    {
     "name": "stdout",
     "output_type": "stream",
     "text": [
      "Generated Prompt:\n",
      "Here is my recommendation based on the player's described playing style:\n",
      "\n",
      "<answer>\n",
      "1. Top\n",
      "\n",
      "2. Reasons for the recommendation:\n",
      "- Top lane is often considered the most isolated 1v1 matchup, aligning with the player's focus on beating their direct opponent.\n",
      "- The emphasis on proving individual skill against a lane opponent is well-suited to top lane, where extended trades and duels are common.\n",
      "- Top lane's island-like nature allows the player to focus solely on outplaying their opponent without as much concern for overall team objectives or map-wide play.\n",
      "</answer>\n"
     ]
    }
   ],
   "execution_count": 75
  },
  {
   "metadata": {
    "ExecuteTime": {
     "end_time": "2024-07-29T09:43:07.508654Z",
     "start_time": "2024-07-29T09:43:04.239553Z"
    }
   },
   "cell_type": "code",
   "source": "use_my_question(MID_PLAYING_STYLE)",
   "id": "ab676a88685847c",
   "outputs": [
    {
     "name": "stdout",
     "output_type": "stream",
     "text": [
      "My Prompt:\n",
      "Based on your playing style:\n",
      "\n",
      "1. Position recommendation: Mid lane or AD Carry (ADC)\n",
      "\n",
      "2. Reasons for recommendation:\n",
      "   - You enjoy high-damage champions, which are common in both mid and ADC roles\n",
      "   - Your focus on flashy plays and outplaying opponents aligns well with mid lane assassins and mages\n",
      "   - Strong positioning and mechanics are crucial for both mid laners and ADCs\n",
      "   - The carry potential you seek is highest in these two roles\n",
      "   - Mid and ADC allow for impactful plays that can turn the tide of a game\n",
      "   - These roles often feature champions that require precise execution and offer opportunities for highlight-reel moments\n"
     ]
    }
   ],
   "execution_count": 76
  },
  {
   "metadata": {
    "ExecuteTime": {
     "end_time": "2024-07-29T09:43:12.915326Z",
     "start_time": "2024-07-29T09:43:07.509818Z"
    }
   },
   "cell_type": "code",
   "source": "use_generated_prompt(MID_PLAYING_STYLE)",
   "id": "c825f2d37a43b6f6",
   "outputs": [
    {
     "name": "stdout",
     "output_type": "stream",
     "text": [
      "Generated Prompt:\n",
      "<answer>\n",
      "1. Mid\n",
      "\n",
      "2. Reasons for the recommendation:\n",
      "- The player's preference for high-damage champions aligns well with the mid lane, which often features mages and assassins.\n",
      "- Their focus on making flashy plays and outplaying opponents is well-suited to the 1v1 nature of the mid lane.\n",
      "- The emphasis on positioning and mechanics is crucial for mid laners, who need to navigate teamfights and skirmishes effectively.\n",
      "</answer>\n"
     ]
    }
   ],
   "execution_count": 77
  },
  {
   "metadata": {
    "ExecuteTime": {
     "end_time": "2024-07-29T09:43:16.037967Z",
     "start_time": "2024-07-29T09:43:12.916126Z"
    }
   },
   "cell_type": "code",
   "source": "use_my_question(JUNGLE_PLAYING_STYLE)",
   "id": "631a2cf1611cc15",
   "outputs": [
    {
     "name": "stdout",
     "output_type": "stream",
     "text": [
      "My Prompt:\n",
      "Position recommendation: Support\n",
      "\n",
      "Reasons:\n",
      "1. Your preference for a supportive role aligns perfectly with the support position.\n",
      "2. The focus on vision control is a crucial aspect of the support role.\n",
      "3. Map awareness and strategic decision-making are key skills for supports, who often coordinate team movements and objective control.\n",
      "4. Supports are responsible for assisting teammates and enabling them to secure objectives, which matches your described playstyle.\n",
      "5. The support position allows you to have a significant impact on the game through utility and strategic play rather than raw damage output.\n"
     ]
    }
   ],
   "execution_count": 78
  },
  {
   "metadata": {
    "ExecuteTime": {
     "end_time": "2024-07-29T09:43:19.793307Z",
     "start_time": "2024-07-29T09:43:16.039634Z"
    }
   },
   "cell_type": "code",
   "source": "use_generated_prompt(JUNGLE_PLAYING_STYLE)",
   "id": "5829c3019beb53a2",
   "outputs": [
    {
     "name": "stdout",
     "output_type": "stream",
     "text": [
      "Generated Prompt:\n",
      "<answer>\n",
      "1. Support\n",
      "\n",
      "2. Reasons for the recommendation:\n",
      "- Your preference for playing a supportive role aligns perfectly with the Support position, which is dedicated to assisting teammates and enabling their success.\n",
      "- Your focus on vision control and map awareness is crucial for the Support role, as they are primarily responsible for maintaining vision across the map.\n",
      "- Your emphasis on strategic decision-making is valuable for the Support position, as they often contribute to shot-calling and objective control due to their map-wide perspective.\n",
      "</answer>\n"
     ]
    }
   ],
   "execution_count": 79
  },
  {
   "metadata": {
    "ExecuteTime": {
     "end_time": "2024-07-29T09:43:28.393881Z",
     "start_time": "2024-07-29T09:43:19.797193Z"
    }
   },
   "cell_type": "code",
   "source": "use_my_question(AD_CARRY_PLAYING_STYLE)",
   "id": "189286d923bdb9c9",
   "outputs": [
    {
     "name": "stdout",
     "output_type": "stream",
     "text": [
      "My Prompt:\n",
      "AD Carry (ADC)\n",
      "\n",
      "Reasons:\n",
      "1. Consistent damage output aligns perfectly with the ADC role\n",
      "2. Emphasis on positioning and kiting is crucial for ADC success\n",
      "3. Late-game scaling is a key characteristic of many ADC champions\n",
      "4. Objective securing (like taking down turrets) is a primary responsibility for ADCs\n",
      "5. Team fight focus matches the ADC's role as a primary damage dealer in group encounters\n"
     ]
    }
   ],
   "execution_count": 80
  },
  {
   "metadata": {
    "ExecuteTime": {
     "end_time": "2024-07-29T09:44:29.238750Z",
     "start_time": "2024-07-29T09:43:28.395715Z"
    }
   },
   "cell_type": "code",
   "source": "use_generated_prompt(AD_CARRY_PLAYING_STYLE)",
   "id": "f94455eab5c534de",
   "outputs": [
    {
     "name": "stdout",
     "output_type": "stream",
     "text": [
      "Generated Prompt:\n",
      "Here is my recommendation based on the player's described playing style:\n",
      "\n",
      "<answer>\n",
      "1. AD Carry (ADC)\n",
      "\n",
      "2. Reasons for the recommendation:\n",
      "- The player excels at dealing consistent damage in team fights, which is the primary role of an ADC.\n",
      "- Positioning and kiting are mentioned as strengths, which are crucial skills for ADC players to maximize damage output while staying safe.\n",
      "- The player enjoys scaling into the late game, aligning with the typical ADC playstyle of farming to reach power spikes in the mid to late game.\n",
      "</answer>\n"
     ]
    }
   ],
   "execution_count": 81
  },
  {
   "metadata": {
    "ExecuteTime": {
     "end_time": "2024-07-29T09:44:32.252297Z",
     "start_time": "2024-07-29T09:44:29.239648Z"
    }
   },
   "cell_type": "code",
   "source": "use_my_question(SUPPORT_PLAYING_STYLE)",
   "id": "7a96f2e4a54026ee",
   "outputs": [
    {
     "name": "stdout",
     "output_type": "stream",
     "text": [
      "My Prompt:\n",
      "Support\n",
      "\n",
      "Reasons:\n",
      "1. Your focus on enabling teammates aligns perfectly with the support role's primary objective.\n",
      "2. Prioritizing vision control is a crucial aspect of support gameplay.\n",
      "3. Emphasis on crowd control abilities is typical for many support champions.\n",
      "4. Protecting allies is a key responsibility for supports during teamfights and laning phase.\n",
      "5. Your utility-focused playstyle matches the support role's emphasis on team-oriented gameplay rather than individual carry potential.\n"
     ]
    }
   ],
   "execution_count": 82
  },
  {
   "metadata": {
    "ExecuteTime": {
     "end_time": "2024-07-29T09:44:35.355583Z",
     "start_time": "2024-07-29T09:44:32.272666Z"
    }
   },
   "cell_type": "code",
   "source": "use_generated_prompt(SUPPORT_PLAYING_STYLE)",
   "id": "ce28ecd1de6d9071",
   "outputs": [
    {
     "name": "stdout",
     "output_type": "stream",
     "text": [
      "Generated Prompt:\n",
      "Here is my recommendation based on the player's described playing style:\n",
      "\n",
      "<answer>\n",
      "1. Support\n",
      "\n",
      "2. Reasons for the recommendation:\n",
      "- The player prioritizes enabling teammates and providing utility, which is the core function of the support role\n",
      "- Vision control is mentioned as a priority, and supports are primarily responsible for map vision through warding\n",
      "- Protecting allies and providing crowd control are key aspects of many support champions' kits\n",
      "</answer>\n"
     ]
    }
   ],
   "execution_count": 83
  },
  {
   "metadata": {
    "ExecuteTime": {
     "end_time": "2024-07-29T09:44:35.379637Z",
     "start_time": "2024-07-29T09:44:35.359563Z"
    }
   },
   "cell_type": "code",
   "source": "",
   "id": "d482b4a7c1ef7fdf",
   "outputs": [],
   "execution_count": 83
  }
 ],
 "metadata": {
  "kernelspec": {
   "display_name": "Python 3",
   "language": "python",
   "name": "python3"
  },
  "language_info": {
   "codemirror_mode": {
    "name": "ipython",
    "version": 2
   },
   "file_extension": ".py",
   "mimetype": "text/x-python",
   "name": "python",
   "nbconvert_exporter": "python",
   "pygments_lexer": "ipython2",
   "version": "2.7.6"
  }
 },
 "nbformat": 4,
 "nbformat_minor": 5
}
